{
 "cells": [
  {
   "cell_type": "code",
   "execution_count": null,
   "outputs": [],
   "source": [
    "import pandas as pd\n",
    "import numpy as np\n",
    "import matplotlib\n",
    "import matplotlib.pyplot as plt\n",
    "\n",
    "%matplotlib inline\n",
    "import seaborn as sns\n"
   ],
   "metadata": {
    "collapsed": false,
    "pycharm": {
     "name": "#%%\n"
    }
   }
  },
  {
   "cell_type": "code",
   "execution_count": null,
   "outputs": [],
   "source": [
    "train = pd.read_csv('../data/train_ver2.csv')"
   ],
   "metadata": {
    "collapsed": false,
    "pycharm": {
     "name": "#%%\n"
    }
   }
  },
  {
   "cell_type": "markdown",
   "source": [
    "## 신규 구매 변수 생성"
   ],
   "metadata": {
    "collapsed": false,
    "pycharm": {
     "name": "#%% md\n"
    }
   }
  },
  {
   "cell_type": "code",
   "execution_count": null,
   "outputs": [],
   "source": [
    "prods = [col for col in train.columns if 'ult1' in col]\n"
   ],
   "metadata": {
    "collapsed": false,
    "pycharm": {
     "name": "#%%\n"
    }
   }
  },
  {
   "cell_type": "code",
   "execution_count": null,
   "outputs": [],
   "source": [
    "# 날짜 -> 정수 변환\n",
    "def date_to_int(str_date):\n",
    "    y, m, d = [int(d) for d in str_date.strip().split('-')]\n",
    "    int_date = (y - 2015) * 12 + m\n",
    "    return int_date\n",
    "\n",
    "train['int_date'] = train['fecha_dato'].map(date_to_int).astype(np.int8)\n"
   ],
   "metadata": {
    "collapsed": false,
    "pycharm": {
     "name": "#%%\n"
    }
   }
  },
  {
   "cell_type": "code",
   "execution_count": null,
   "outputs": [],
   "source": [
    "# lag 데이터 (1달전 값) 생성\n",
    "train_lag = train.copy(deep=True)\n",
    "train_lag['int_date'] += 1\n",
    "train_lag.columns = [x+'_prev' if x not in ['ncodpers', 'int_date'] else x for x in train_lag.columns]"
   ],
   "metadata": {
    "collapsed": false,
    "pycharm": {
     "name": "#%%\n"
    }
   }
  },
  {
   "cell_type": "code",
   "execution_count": null,
   "outputs": [],
   "source": [
    "# 원본 + lag 데이터 병합\n",
    "train_df = train.merge(train_lag, on=['ncodpers', 'int_date'], how='left')\n",
    "\n",
    "del train, train_lag"
   ],
   "metadata": {
    "collapsed": false,
    "pycharm": {
     "name": "#%%\n"
    }
   }
  },
  {
   "cell_type": "code",
   "execution_count": null,
   "outputs": [],
   "source": [
    "# 결측치 처리\n",
    "for prod in prods:\n",
    "    prev = prod+ '_prev'\n",
    "    train_df[prev].fillna(0, inplace=True)"
   ],
   "metadata": {
    "collapsed": false,
    "pycharm": {
     "name": "#%%\n"
    }
   }
  },
  {
   "cell_type": "code",
   "execution_count": null,
   "outputs": [],
   "source": [
    "# 신규 제품 가입 변수 생성 (이전달 0, 이번달 1)\n",
    "for prod in prods:\n",
    "    prod_add = prod + '_add'\n",
    "    prod_prev = prod + '_prev'\n",
    "    train_df[prod_add] = ((train_df[prod]==1) & (train_df[prod_prev]==0)).astype(np.int8)"
   ],
   "metadata": {
    "collapsed": false,
    "pycharm": {
     "name": "#%%\n"
    }
   }
  },
  {
   "cell_type": "code",
   "execution_count": null,
   "outputs": [],
   "source": [
    "train_df.tail(10)"
   ],
   "metadata": {
    "collapsed": false,
    "pycharm": {
     "name": "#%%\n"
    }
   }
  },
  {
   "cell_type": "markdown",
   "source": [
    "## 시각화 확인\n"
   ],
   "metadata": {
    "collapsed": false,
    "pycharm": {
     "name": "#%% md\n"
    }
   }
  },
  {
   "cell_type": "code",
   "execution_count": null,
   "outputs": [],
   "source": [
    "prod_labels = [col+'_add' for col in prods]\n",
    "label_data = train_df.loc[:, ['fecha_dato']+prod_labels]\n",
    "\n",
    "months = np.unique(label_data['fecha_dato']).tolist()\n",
    "\n",
    "label_over_time = []\n",
    "\n",
    "for i, prod in enumerate(prod_labels):\n",
    "    temp = label_data.groupby(['fecha_dato'])[prod].agg('sum').tolist()\n",
    "    label_over_time.append(temp)\n",
    "\n"
   ],
   "metadata": {
    "collapsed": false,
    "pycharm": {
     "name": "#%%\n"
    }
   }
  },
  {
   "cell_type": "code",
   "execution_count": null,
   "outputs": [],
   "source": [
    "# 월별 각 변수의 비율\n",
    "label_sum_over_time = []\n",
    "for i, prod in enumerate(prod_labels):\n",
    "    temp = (label_over_time[i]/np.asarray(label_over_time).sum(axis=0))*100\n",
    "    label_sum_over_time.append(temp)\n"
   ],
   "metadata": {
    "collapsed": false,
    "pycharm": {
     "name": "#%%\n"
    }
   }
  },
  {
   "cell_type": "code",
   "execution_count": null,
   "outputs": [],
   "source": [
    "\n",
    "label_sum_over_time = []\n",
    "for i, prod in enumerate(prod_labels):\n",
    "    temp = np.asarray(label_over_time[i:]).sum(axis=0)\n",
    "    label_sum_over_time.append(temp)\n",
    "    \n",
    "label_sum_percent = (label_sum_over_time / (np.asarray(label_sum_over_time).max(axis=0)))*100"
   ],
   "metadata": {
    "collapsed": false,
    "pycharm": {
     "name": "#%%\n"
    }
   }
  },
  {
   "cell_type": "code",
   "execution_count": null,
   "outputs": [],
   "source": [
    "color_list = sns.color_palette(\"icefire\", 24)\n",
    "\n",
    "\n",
    "f,ax = plt.subplots(figsize=(30, 15))\n",
    "for i, prod in enumerate(prod_labels):\n",
    "    # x : 월 / y: 누적 총합\n",
    "    sns.barplot(x=months, y=label_sum_percent[i], color = color_list[i], alpha=0.7 )\n",
    "plt.legend([plt.Rectangle((0,0), 1, 1, fc=color_list[i], \n",
    "                         edgecolor='none') for i in range(len(prods))],\n",
    "           prods, loc=1, ncol=2, prop={'size':15})"
   ],
   "metadata": {
    "collapsed": false,
    "pycharm": {
     "name": "#%%\n"
    }
   }
  },
  {
   "cell_type": "markdown",
   "source": [
    "- ind_cco_fin_ult1(당좌예금)은 7,8월 높은 값을 가짐\n",
    "- ind_nomina_ult1, ind_nom_pens_ult1(급여, 연금)은 겨울로 갈수록 증가, 여름에 가장 낮은 값을 가짐\n",
    "- 신규 구매 빈도가 높은 것 : ind_cco_fin_ult1 당좌예금, int_tjcr_fin_ult1 신용카드, int_nomina_ult1 급여, int_nom_pens_ult1연금, ind_recibo_fin_ult1직불카드\n",
    "-> 계절에 따라 다수 모델링 가능성도 열어놔야 함"
   ],
   "metadata": {
    "collapsed": false,
    "pycharm": {
     "name": "#%% md\n"
    }
   }
  },
  {
   "cell_type": "code",
   "execution_count": 6,
   "metadata": {},
   "outputs": [],
   "source": [
    "prods = [col for col in train.columns if 'ult1' in col]\n"
   ]
  },
  {
   "cell_type": "code",
   "execution_count": 9,
   "metadata": {},
   "outputs": [],
   "source": [
    "# 날짜 -> 정수 변환\n",
    "def date_to_int(str_date):\n",
    "    y, m, d = [int(d) for d in str_date.strip().split('-')]\n",
    "    int_date = (y - 2015) * 12 + m\n",
    "    return int_date\n",
    "\n",
    "train['int_date'] = train['fecha_dato'].map(date_to_int).astype(np.int8)\n"
   ]
  },
  {
   "cell_type": "code",
   "execution_count": 10,
   "metadata": {},
   "outputs": [],
   "source": [
    "# lag 데이터 (1달전 값) 생성\n",
    "train_lag = train.copy(deep=True)\n",
    "train_lag['int_date'] += 1\n",
    "train_lag.columns = [x+'_prev' if x not in ['ncodpers', 'int_date'] else x for x in train_lag.columns]"
   ]
  },
  {
   "cell_type": "code",
   "execution_count": 11,
   "metadata": {},
   "outputs": [],
   "source": [
    "# 원본 + lag 데이터 병합\n",
    "train_df = train.merge(train_lag, on=['ncodpers', 'int_date'], how='left')\n",
    "\n",
    "del train, train_lag"
   ]
  },
  {
   "cell_type": "code",
   "execution_count": 14,
   "metadata": {},
   "outputs": [],
   "source": [
    "# 결측치 처리\n",
    "for prod in prods:\n",
    "    prev = prod+ '_prev'\n",
    "    train_df[prev].fillna(0, inplace=True)"
   ]
  },
  {
   "cell_type": "code",
   "execution_count": 15,
   "metadata": {},
   "outputs": [],
   "source": [
    "# 신규 제품 가입 변수 생성 (이전달 0, 이번달 1)\n",
    "for prod in prods:\n",
    "    prod_add = prod + '_add'\n",
    "    prod_prev = prod + '_prev'\n",
    "    train_df[prod_add] = ((train_df[prod]==1) & (train_df[prod_prev]==0)).astype(np.int8)"
   ]
  },
  {
   "cell_type": "code",
   "execution_count": 16,
   "metadata": {},
   "outputs": [
    {
     "data": {
      "text/html": [
       "<div>\n",
       "<style scoped>\n",
       "    .dataframe tbody tr th:only-of-type {\n",
       "        vertical-align: middle;\n",
       "    }\n",
       "\n",
       "    .dataframe tbody tr th {\n",
       "        vertical-align: top;\n",
       "    }\n",
       "\n",
       "    .dataframe thead th {\n",
       "        text-align: right;\n",
       "    }\n",
       "</style>\n",
       "<table border=\"1\" class=\"dataframe\">\n",
       "  <thead>\n",
       "    <tr style=\"text-align: right;\">\n",
       "      <th></th>\n",
       "      <th>fecha_dato</th>\n",
       "      <th>ncodpers</th>\n",
       "      <th>ind_empleado</th>\n",
       "      <th>pais_residencia</th>\n",
       "      <th>sexo</th>\n",
       "      <th>age</th>\n",
       "      <th>fecha_alta</th>\n",
       "      <th>ind_nuevo</th>\n",
       "      <th>antiguedad</th>\n",
       "      <th>indrel</th>\n",
       "      <th>...</th>\n",
       "      <th>ind_hip_fin_ult1_add</th>\n",
       "      <th>ind_plan_fin_ult1_add</th>\n",
       "      <th>ind_pres_fin_ult1_add</th>\n",
       "      <th>ind_reca_fin_ult1_add</th>\n",
       "      <th>ind_tjcr_fin_ult1_add</th>\n",
       "      <th>ind_valo_fin_ult1_add</th>\n",
       "      <th>ind_viv_fin_ult1_add</th>\n",
       "      <th>ind_nomina_ult1_add</th>\n",
       "      <th>ind_nom_pens_ult1_add</th>\n",
       "      <th>ind_recibo_ult1_add</th>\n",
       "    </tr>\n",
       "  </thead>\n",
       "  <tbody>\n",
       "    <tr>\n",
       "      <th>13647299</th>\n",
       "      <td>2016-05-28</td>\n",
       "      <td>1166770</td>\n",
       "      <td>N</td>\n",
       "      <td>ES</td>\n",
       "      <td>H</td>\n",
       "      <td>23</td>\n",
       "      <td>2013-08-14</td>\n",
       "      <td>0.0</td>\n",
       "      <td>33</td>\n",
       "      <td>1.0</td>\n",
       "      <td>...</td>\n",
       "      <td>0</td>\n",
       "      <td>0</td>\n",
       "      <td>0</td>\n",
       "      <td>0</td>\n",
       "      <td>0</td>\n",
       "      <td>0</td>\n",
       "      <td>0</td>\n",
       "      <td>0</td>\n",
       "      <td>0</td>\n",
       "      <td>0</td>\n",
       "    </tr>\n",
       "    <tr>\n",
       "      <th>13647300</th>\n",
       "      <td>2016-05-28</td>\n",
       "      <td>1166769</td>\n",
       "      <td>N</td>\n",
       "      <td>ES</td>\n",
       "      <td>H</td>\n",
       "      <td>26</td>\n",
       "      <td>2013-08-14</td>\n",
       "      <td>0.0</td>\n",
       "      <td>33</td>\n",
       "      <td>1.0</td>\n",
       "      <td>...</td>\n",
       "      <td>0</td>\n",
       "      <td>0</td>\n",
       "      <td>0</td>\n",
       "      <td>0</td>\n",
       "      <td>0</td>\n",
       "      <td>0</td>\n",
       "      <td>0</td>\n",
       "      <td>0</td>\n",
       "      <td>0</td>\n",
       "      <td>0</td>\n",
       "    </tr>\n",
       "    <tr>\n",
       "      <th>13647301</th>\n",
       "      <td>2016-05-28</td>\n",
       "      <td>1166768</td>\n",
       "      <td>N</td>\n",
       "      <td>ES</td>\n",
       "      <td>V</td>\n",
       "      <td>23</td>\n",
       "      <td>2013-08-14</td>\n",
       "      <td>0.0</td>\n",
       "      <td>33</td>\n",
       "      <td>1.0</td>\n",
       "      <td>...</td>\n",
       "      <td>0</td>\n",
       "      <td>0</td>\n",
       "      <td>0</td>\n",
       "      <td>0</td>\n",
       "      <td>0</td>\n",
       "      <td>0</td>\n",
       "      <td>0</td>\n",
       "      <td>0</td>\n",
       "      <td>0</td>\n",
       "      <td>0</td>\n",
       "    </tr>\n",
       "    <tr>\n",
       "      <th>13647302</th>\n",
       "      <td>2016-05-28</td>\n",
       "      <td>1166767</td>\n",
       "      <td>N</td>\n",
       "      <td>ES</td>\n",
       "      <td>V</td>\n",
       "      <td>25</td>\n",
       "      <td>2013-08-14</td>\n",
       "      <td>0.0</td>\n",
       "      <td>33</td>\n",
       "      <td>1.0</td>\n",
       "      <td>...</td>\n",
       "      <td>0</td>\n",
       "      <td>0</td>\n",
       "      <td>0</td>\n",
       "      <td>0</td>\n",
       "      <td>0</td>\n",
       "      <td>0</td>\n",
       "      <td>0</td>\n",
       "      <td>0</td>\n",
       "      <td>0</td>\n",
       "      <td>0</td>\n",
       "    </tr>\n",
       "    <tr>\n",
       "      <th>13647303</th>\n",
       "      <td>2016-05-28</td>\n",
       "      <td>1166766</td>\n",
       "      <td>N</td>\n",
       "      <td>ES</td>\n",
       "      <td>V</td>\n",
       "      <td>25</td>\n",
       "      <td>2013-08-14</td>\n",
       "      <td>0.0</td>\n",
       "      <td>33</td>\n",
       "      <td>1.0</td>\n",
       "      <td>...</td>\n",
       "      <td>0</td>\n",
       "      <td>0</td>\n",
       "      <td>0</td>\n",
       "      <td>0</td>\n",
       "      <td>0</td>\n",
       "      <td>0</td>\n",
       "      <td>0</td>\n",
       "      <td>0</td>\n",
       "      <td>0</td>\n",
       "      <td>0</td>\n",
       "    </tr>\n",
       "    <tr>\n",
       "      <th>13647304</th>\n",
       "      <td>2016-05-28</td>\n",
       "      <td>1166765</td>\n",
       "      <td>N</td>\n",
       "      <td>ES</td>\n",
       "      <td>V</td>\n",
       "      <td>22</td>\n",
       "      <td>2013-08-14</td>\n",
       "      <td>0.0</td>\n",
       "      <td>33</td>\n",
       "      <td>1.0</td>\n",
       "      <td>...</td>\n",
       "      <td>0</td>\n",
       "      <td>0</td>\n",
       "      <td>0</td>\n",
       "      <td>0</td>\n",
       "      <td>0</td>\n",
       "      <td>0</td>\n",
       "      <td>0</td>\n",
       "      <td>0</td>\n",
       "      <td>0</td>\n",
       "      <td>0</td>\n",
       "    </tr>\n",
       "    <tr>\n",
       "      <th>13647305</th>\n",
       "      <td>2016-05-28</td>\n",
       "      <td>1166764</td>\n",
       "      <td>N</td>\n",
       "      <td>ES</td>\n",
       "      <td>V</td>\n",
       "      <td>23</td>\n",
       "      <td>2013-08-14</td>\n",
       "      <td>0.0</td>\n",
       "      <td>33</td>\n",
       "      <td>1.0</td>\n",
       "      <td>...</td>\n",
       "      <td>0</td>\n",
       "      <td>0</td>\n",
       "      <td>0</td>\n",
       "      <td>0</td>\n",
       "      <td>0</td>\n",
       "      <td>0</td>\n",
       "      <td>0</td>\n",
       "      <td>0</td>\n",
       "      <td>0</td>\n",
       "      <td>0</td>\n",
       "    </tr>\n",
       "    <tr>\n",
       "      <th>13647306</th>\n",
       "      <td>2016-05-28</td>\n",
       "      <td>1166763</td>\n",
       "      <td>N</td>\n",
       "      <td>ES</td>\n",
       "      <td>H</td>\n",
       "      <td>47</td>\n",
       "      <td>2013-08-14</td>\n",
       "      <td>0.0</td>\n",
       "      <td>33</td>\n",
       "      <td>1.0</td>\n",
       "      <td>...</td>\n",
       "      <td>0</td>\n",
       "      <td>0</td>\n",
       "      <td>0</td>\n",
       "      <td>0</td>\n",
       "      <td>0</td>\n",
       "      <td>0</td>\n",
       "      <td>0</td>\n",
       "      <td>0</td>\n",
       "      <td>0</td>\n",
       "      <td>0</td>\n",
       "    </tr>\n",
       "    <tr>\n",
       "      <th>13647307</th>\n",
       "      <td>2016-05-28</td>\n",
       "      <td>1166789</td>\n",
       "      <td>N</td>\n",
       "      <td>ES</td>\n",
       "      <td>H</td>\n",
       "      <td>22</td>\n",
       "      <td>2013-08-14</td>\n",
       "      <td>0.0</td>\n",
       "      <td>33</td>\n",
       "      <td>1.0</td>\n",
       "      <td>...</td>\n",
       "      <td>0</td>\n",
       "      <td>0</td>\n",
       "      <td>0</td>\n",
       "      <td>0</td>\n",
       "      <td>0</td>\n",
       "      <td>0</td>\n",
       "      <td>0</td>\n",
       "      <td>0</td>\n",
       "      <td>0</td>\n",
       "      <td>0</td>\n",
       "    </tr>\n",
       "    <tr>\n",
       "      <th>13647308</th>\n",
       "      <td>2016-05-28</td>\n",
       "      <td>1550586</td>\n",
       "      <td>N</td>\n",
       "      <td>ES</td>\n",
       "      <td>H</td>\n",
       "      <td>37</td>\n",
       "      <td>2016-05-13</td>\n",
       "      <td>1.0</td>\n",
       "      <td>0</td>\n",
       "      <td>1.0</td>\n",
       "      <td>...</td>\n",
       "      <td>0</td>\n",
       "      <td>0</td>\n",
       "      <td>0</td>\n",
       "      <td>0</td>\n",
       "      <td>0</td>\n",
       "      <td>0</td>\n",
       "      <td>0</td>\n",
       "      <td>0</td>\n",
       "      <td>0</td>\n",
       "      <td>0</td>\n",
       "    </tr>\n",
       "  </tbody>\n",
       "</table>\n",
       "<p>10 rows × 120 columns</p>\n",
       "</div>"
      ],
      "text/plain": [
       "          fecha_dato  ncodpers ind_empleado pais_residencia sexo age  \\\n",
       "13647299  2016-05-28   1166770            N              ES    H  23   \n",
       "13647300  2016-05-28   1166769            N              ES    H  26   \n",
       "13647301  2016-05-28   1166768            N              ES    V  23   \n",
       "13647302  2016-05-28   1166767            N              ES    V  25   \n",
       "13647303  2016-05-28   1166766            N              ES    V  25   \n",
       "13647304  2016-05-28   1166765            N              ES    V  22   \n",
       "13647305  2016-05-28   1166764            N              ES    V  23   \n",
       "13647306  2016-05-28   1166763            N              ES    H  47   \n",
       "13647307  2016-05-28   1166789            N              ES    H  22   \n",
       "13647308  2016-05-28   1550586            N              ES    H  37   \n",
       "\n",
       "          fecha_alta  ind_nuevo antiguedad  indrel  ... ind_hip_fin_ult1_add  \\\n",
       "13647299  2013-08-14        0.0         33     1.0  ...                    0   \n",
       "13647300  2013-08-14        0.0         33     1.0  ...                    0   \n",
       "13647301  2013-08-14        0.0         33     1.0  ...                    0   \n",
       "13647302  2013-08-14        0.0         33     1.0  ...                    0   \n",
       "13647303  2013-08-14        0.0         33     1.0  ...                    0   \n",
       "13647304  2013-08-14        0.0         33     1.0  ...                    0   \n",
       "13647305  2013-08-14        0.0         33     1.0  ...                    0   \n",
       "13647306  2013-08-14        0.0         33     1.0  ...                    0   \n",
       "13647307  2013-08-14        0.0         33     1.0  ...                    0   \n",
       "13647308  2016-05-13        1.0          0     1.0  ...                    0   \n",
       "\n",
       "         ind_plan_fin_ult1_add ind_pres_fin_ult1_add ind_reca_fin_ult1_add  \\\n",
       "13647299                     0                     0                     0   \n",
       "13647300                     0                     0                     0   \n",
       "13647301                     0                     0                     0   \n",
       "13647302                     0                     0                     0   \n",
       "13647303                     0                     0                     0   \n",
       "13647304                     0                     0                     0   \n",
       "13647305                     0                     0                     0   \n",
       "13647306                     0                     0                     0   \n",
       "13647307                     0                     0                     0   \n",
       "13647308                     0                     0                     0   \n",
       "\n",
       "         ind_tjcr_fin_ult1_add ind_valo_fin_ult1_add ind_viv_fin_ult1_add  \\\n",
       "13647299                     0                     0                    0   \n",
       "13647300                     0                     0                    0   \n",
       "13647301                     0                     0                    0   \n",
       "13647302                     0                     0                    0   \n",
       "13647303                     0                     0                    0   \n",
       "13647304                     0                     0                    0   \n",
       "13647305                     0                     0                    0   \n",
       "13647306                     0                     0                    0   \n",
       "13647307                     0                     0                    0   \n",
       "13647308                     0                     0                    0   \n",
       "\n",
       "         ind_nomina_ult1_add  ind_nom_pens_ult1_add  ind_recibo_ult1_add  \n",
       "13647299                   0                      0                    0  \n",
       "13647300                   0                      0                    0  \n",
       "13647301                   0                      0                    0  \n",
       "13647302                   0                      0                    0  \n",
       "13647303                   0                      0                    0  \n",
       "13647304                   0                      0                    0  \n",
       "13647305                   0                      0                    0  \n",
       "13647306                   0                      0                    0  \n",
       "13647307                   0                      0                    0  \n",
       "13647308                   0                      0                    0  \n",
       "\n",
       "[10 rows x 120 columns]"
      ]
     },
     "execution_count": 16,
     "metadata": {},
     "output_type": "execute_result"
    }
   ],
   "source": [
    "train_df.tail(10)"
   ]
  },
  {
   "cell_type": "markdown",
   "metadata": {},
   "source": [
    "## 시각화 확인\n"
   ]
  },
  {
   "cell_type": "code",
   "execution_count": 30,
   "metadata": {},
   "outputs": [],
   "source": [
    "prod_labels = [col+'_add' for col in prods]\n",
    "label_data = train_df.loc[:, ['fecha_dato']+prod_labels]\n",
    "\n",
    "months = np.unique(label_data['fecha_dato']).tolist()\n",
    "\n",
    "label_over_time = []\n",
    "\n",
    "for i, prod in enumerate(prod_labels):\n",
    "    temp = label_data.groupby(['fecha_dato'])[prod].agg('sum').tolist()\n",
    "    label_over_time.append(temp)\n",
    "\n"
   ]
  },
  {
   "cell_type": "code",
   "execution_count": 31,
   "metadata": {},
   "outputs": [],
   "source": [
    "# 월별 각 변수의 비율\n",
    "label_sum_over_time = []\n",
    "for i, prod in enumerate(prod_labels):\n",
    "    temp = (label_over_time[i]/np.asarray(label_over_time).sum(axis=0))*100\n",
    "    label_sum_over_time.append(temp)\n"
   ]
  },
  {
   "cell_type": "code",
   "execution_count": 32,
   "metadata": {},
   "outputs": [],
   "source": [
    "\n",
    "label_sum_over_time = []\n",
    "for i, prod in enumerate(prod_labels):\n",
    "    temp = np.asarray(label_over_time[i:]).sum(axis=0)\n",
    "    label_sum_over_time.append(temp)\n",
    "    \n",
    "label_sum_percent = (label_sum_over_time / (np.asarray(label_sum_over_time).max(axis=0)))*100"
   ]
  },
  {
   "cell_type": "code",
   "execution_count": 33,
   "metadata": {},
   "outputs": [
    {
     "data": {
      "text/plain": [
       "<matplotlib.legend.Legend at 0x7fc4ee70ae20>"
      ]
     },
     "execution_count": 33,
     "metadata": {},
     "output_type": "execute_result"
    },
    {
     "data": {
      "image/png": "[encoded data removed]",
      "text/plain": [
       "<Figure size 2160x1080 with 1 Axes>"
      ]
     },
     "metadata": {
      "needs_background": "light"
     },
     "output_type": "display_data"
    }
   ],
   "source": [
    "color_list = sns.color_palette(\"icefire\", 24)\n",
    "\n",
    "\n",
    "f,ax = plt.subplots(figsize=(30, 15))\n",
    "for i, prod in enumerate(prod_labels):\n",
    "    # x : 월 / y: 누적 총합\n",
    "    sns.barplot(x=months, y=label_sum_percent[i], color = color_list[i], alpha=0.7 )\n",
    "plt.legend([plt.Rectangle((0,0), 1, 1, fc=color_list[i], \n",
    "                         edgecolor='none') for i in range(len(prods))],\n",
    "           prods, loc=1, ncol=2, prop={'size':15})"
   ]
  },
  {
   "cell_type": "markdown",
   "metadata": {},
   "source": [
    "- ind_cco_fin_ult1(당좌예금)은 7,8월 높은 값을 가짐\n",
    "- ind_nomina_ult1, ind_nom_pens_ult1(급여, 연금)은 겨울로 갈수록 증가, 여름에 가장 낮은 값을 가짐\n",
    "- 신규 구매 빈도가 높은 것 : ind_cco_fin_ult1 당좌예금, int_tjcr_fin_ult1 신용카드, int_nomina_ult1 급여, int_nom_pens_ult1연금, ind_recibo_fin_ult1직불카드\n",
    "-> 계절에 따라 다수 모델링 가능성도 열어놔야 함"
   ]
  }
 ],
 "metadata": {
  "kernelspec": {
   "display_name": "Python 3 (ipykernel)",
   "language": "python",
   "name": "python3"
  },
  "language_info": {
   "codemirror_mode": {
    "name": "ipython",
    "version": 3
   },
   "file_extension": ".py",
   "mimetype": "text/x-python",
   "name": "python",
   "nbconvert_exporter": "python",
   "pygments_lexer": "ipython3",
   "version": "3.8.13"
  }
 },
 "nbformat": 4,
 "nbformat_minor": 1
}